version https://git-lfs.github.com/spec/v1
oid sha256:12e7b15f08ee5345e6e6581d263b5ab14ff0f0734084c7be0318d23bba918ab9
size 357200
