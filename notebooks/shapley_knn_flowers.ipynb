version https://git-lfs.github.com/spec/v1
oid sha256:60bd6dae3490ff6a4964ae6eff309331d3e1b62bd822f95577f848d7b4c84f30
size 300398
