version https://git-lfs.github.com/spec/v1
oid sha256:dce51247f53b2f2520190d7139c5917fb7350d4e6cc7fd1dbdfb2c38c656f2bd
size 300400
