version https://git-lfs.github.com/spec/v1
oid sha256:e9fc33b994ac47177fc02ab1cff984ef6efa825e24384f937b5aeb09973d4e31
size 282780
