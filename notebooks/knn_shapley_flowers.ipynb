version https://git-lfs.github.com/spec/v1
oid sha256:4f0ec7b45483cb273bc24ebe435a4bfae7356b0d8de287847dbf2a906ab32a55
size 299681
