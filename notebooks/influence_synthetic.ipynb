version https://git-lfs.github.com/spec/v1
oid sha256:25a50cb8e2eac4c215bf2b013c0544c74aca3326c5c4807bc48a93d2d41f30ff
size 307872
