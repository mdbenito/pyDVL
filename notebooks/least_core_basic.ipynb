version https://git-lfs.github.com/spec/v1
oid sha256:c9e44500917d054e7252fa191a094420a0cfc2d19142dc7697e6c079c0817014
size 550832
