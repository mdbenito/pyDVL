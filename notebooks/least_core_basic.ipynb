version https://git-lfs.github.com/spec/v1
oid sha256:8ed45921b41bda9a4b3a5d11d863ab7bfab17b85397145b2413a1c4f80d5f8ba
size 343587
