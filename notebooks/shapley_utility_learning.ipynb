version https://git-lfs.github.com/spec/v1
oid sha256:8b21b7fa4d2e4e030e10172e0cd46a1daf7569d5dcbc13e343926ea44d9e4005
size 323885
