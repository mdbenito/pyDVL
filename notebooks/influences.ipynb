version https://git-lfs.github.com/spec/v1
oid sha256:190ad6d7dc4c2598f872aa871fe95b92215b819de3f4adbb6f6127a105ba8812
size 427164
