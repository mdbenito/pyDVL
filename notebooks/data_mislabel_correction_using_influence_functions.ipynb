version https://git-lfs.github.com/spec/v1
oid sha256:a2aa505e4eaec801786bea5bd225c1eec91469ac647c9b62d2e7bd1405f400fe
size 443690
